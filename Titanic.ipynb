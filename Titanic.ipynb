{
    "cells": [
        {
            "cell_type": "code",
            "execution_count": 2,
            "source": [
                "import pandas as pd\r\n",
                "#read file csv\r\n",
                "ti_data = pd.read_csv('Titanic.dat',sep='\\t')\r\n",
                "ti_data.head()"
            ],
            "outputs": [
                {
                    "output_type": "execute_result",
                    "data": {
                        "text/plain": [
                            "     Age   Sex  Class Survived\n",
                            "0  Adult  Male  First    Alive\n",
                            "1  Adult  Male  First    Alive\n",
                            "2  Adult  Male  First    Alive\n",
                            "3  Adult  Male  First    Alive\n",
                            "4  Adult  Male  First    Alive"
                        ],
                        "text/html": [
                            "<div>\n",
                            "<style scoped>\n",
                            "    .dataframe tbody tr th:only-of-type {\n",
                            "        vertical-align: middle;\n",
                            "    }\n",
                            "\n",
                            "    .dataframe tbody tr th {\n",
                            "        vertical-align: top;\n",
                            "    }\n",
                            "\n",
                            "    .dataframe thead th {\n",
                            "        text-align: right;\n",
                            "    }\n",
                            "</style>\n",
                            "<table border=\"1\" class=\"dataframe\">\n",
                            "  <thead>\n",
                            "    <tr style=\"text-align: right;\">\n",
                            "      <th></th>\n",
                            "      <th>Age</th>\n",
                            "      <th>Sex</th>\n",
                            "      <th>Class</th>\n",
                            "      <th>Survived</th>\n",
                            "    </tr>\n",
                            "  </thead>\n",
                            "  <tbody>\n",
                            "    <tr>\n",
                            "      <td>0</td>\n",
                            "      <td>Adult</td>\n",
                            "      <td>Male</td>\n",
                            "      <td>First</td>\n",
                            "      <td>Alive</td>\n",
                            "    </tr>\n",
                            "    <tr>\n",
                            "      <td>1</td>\n",
                            "      <td>Adult</td>\n",
                            "      <td>Male</td>\n",
                            "      <td>First</td>\n",
                            "      <td>Alive</td>\n",
                            "    </tr>\n",
                            "    <tr>\n",
                            "      <td>2</td>\n",
                            "      <td>Adult</td>\n",
                            "      <td>Male</td>\n",
                            "      <td>First</td>\n",
                            "      <td>Alive</td>\n",
                            "    </tr>\n",
                            "    <tr>\n",
                            "      <td>3</td>\n",
                            "      <td>Adult</td>\n",
                            "      <td>Male</td>\n",
                            "      <td>First</td>\n",
                            "      <td>Alive</td>\n",
                            "    </tr>\n",
                            "    <tr>\n",
                            "      <td>4</td>\n",
                            "      <td>Adult</td>\n",
                            "      <td>Male</td>\n",
                            "      <td>First</td>\n",
                            "      <td>Alive</td>\n",
                            "    </tr>\n",
                            "  </tbody>\n",
                            "</table>\n",
                            "</div>"
                        ]
                    },
                    "metadata": {},
                    "execution_count": 2
                }
            ],
            "metadata": {}
        },
        {
            "cell_type": "code",
            "execution_count": 3,
            "source": [
                "#สรุปข้อมูล\r\n",
                "ti_data.describe()"
            ],
            "outputs": [
                {
                    "output_type": "execute_result",
                    "data": {
                        "text/plain": [
                            "          Age   Sex Class Survived\n",
                            "count    2201  2201  2201     2201\n",
                            "unique      2     2     4        2\n",
                            "top     Adult  Male  Crew     Dead\n",
                            "freq     2092  1731   885     1491"
                        ],
                        "text/html": [
                            "<div>\n",
                            "<style scoped>\n",
                            "    .dataframe tbody tr th:only-of-type {\n",
                            "        vertical-align: middle;\n",
                            "    }\n",
                            "\n",
                            "    .dataframe tbody tr th {\n",
                            "        vertical-align: top;\n",
                            "    }\n",
                            "\n",
                            "    .dataframe thead th {\n",
                            "        text-align: right;\n",
                            "    }\n",
                            "</style>\n",
                            "<table border=\"1\" class=\"dataframe\">\n",
                            "  <thead>\n",
                            "    <tr style=\"text-align: right;\">\n",
                            "      <th></th>\n",
                            "      <th>Age</th>\n",
                            "      <th>Sex</th>\n",
                            "      <th>Class</th>\n",
                            "      <th>Survived</th>\n",
                            "    </tr>\n",
                            "  </thead>\n",
                            "  <tbody>\n",
                            "    <tr>\n",
                            "      <td>count</td>\n",
                            "      <td>2201</td>\n",
                            "      <td>2201</td>\n",
                            "      <td>2201</td>\n",
                            "      <td>2201</td>\n",
                            "    </tr>\n",
                            "    <tr>\n",
                            "      <td>unique</td>\n",
                            "      <td>2</td>\n",
                            "      <td>2</td>\n",
                            "      <td>4</td>\n",
                            "      <td>2</td>\n",
                            "    </tr>\n",
                            "    <tr>\n",
                            "      <td>top</td>\n",
                            "      <td>Adult</td>\n",
                            "      <td>Male</td>\n",
                            "      <td>Crew</td>\n",
                            "      <td>Dead</td>\n",
                            "    </tr>\n",
                            "    <tr>\n",
                            "      <td>freq</td>\n",
                            "      <td>2092</td>\n",
                            "      <td>1731</td>\n",
                            "      <td>885</td>\n",
                            "      <td>1491</td>\n",
                            "    </tr>\n",
                            "  </tbody>\n",
                            "</table>\n",
                            "</div>"
                        ]
                    },
                    "metadata": {},
                    "execution_count": 3
                }
            ],
            "metadata": {}
        },
        {
            "cell_type": "code",
            "execution_count": 4,
            "source": [
                "#check data missing\r\n",
                "for column in ti_data.columns:\r\n",
                "         print(column,ti_data[column].isnull().sum())"
            ],
            "outputs": [
                {
                    "output_type": "stream",
                    "name": "stdout",
                    "text": [
                        "Age 0\n",
                        "Sex 0\n",
                        "Class 0\n",
                        "Survived 0\n"
                    ]
                }
            ],
            "metadata": {}
        },
        {
            "cell_type": "code",
            "execution_count": 5,
            "source": [
                "# ผลรวม แสดงข้อมูลในclass แล้วรวมค่า\r\n",
                "Class_tbl = ti_data.Class.value_counts()\r\n",
                "Class_tbl"
            ],
            "outputs": [
                {
                    "output_type": "execute_result",
                    "data": {
                        "text/plain": [
                            "Crew      885\n",
                            "Third     706\n",
                            "First     325\n",
                            "Second    285\n",
                            "Name: Class, dtype: int64"
                        ]
                    },
                    "metadata": {},
                    "execution_count": 5
                }
            ],
            "metadata": {}
        },
        {
            "cell_type": "code",
            "execution_count": 9,
            "source": [
                "#เลือกข้อมูลเป็นช่วงๆ\r\n",
                "highest_two = Class_tbl.index[0:2].tolist()\r\n",
                "highest_two\r\n",
                "Class_tbl[highest_two]\r\n"
            ],
            "outputs": [
                {
                    "output_type": "execute_result",
                    "data": {
                        "text/plain": [
                            "Crew     885\n",
                            "Third    706\n",
                            "Name: Class, dtype: int64"
                        ]
                    },
                    "metadata": {},
                    "execution_count": 9
                }
            ],
            "metadata": {}
        },
        {
            "cell_type": "code",
            "execution_count": 14,
            "source": [
                "Alive_Class_tbl = pd.crosstab(ti_data['Survived'],ti_data['Class'])\r\n",
                "Alive_Class_tbl"
            ],
            "outputs": [
                {
                    "output_type": "execute_result",
                    "data": {
                        "text/plain": [
                            "Class     Crew  First  Second  Third\n",
                            "Survived                            \n",
                            "Alive      212    202     118    178\n",
                            "Dead       673    123     167    528"
                        ],
                        "text/html": [
                            "<div>\n",
                            "<style scoped>\n",
                            "    .dataframe tbody tr th:only-of-type {\n",
                            "        vertical-align: middle;\n",
                            "    }\n",
                            "\n",
                            "    .dataframe tbody tr th {\n",
                            "        vertical-align: top;\n",
                            "    }\n",
                            "\n",
                            "    .dataframe thead th {\n",
                            "        text-align: right;\n",
                            "    }\n",
                            "</style>\n",
                            "<table border=\"1\" class=\"dataframe\">\n",
                            "  <thead>\n",
                            "    <tr style=\"text-align: right;\">\n",
                            "      <th>Class</th>\n",
                            "      <th>Crew</th>\n",
                            "      <th>First</th>\n",
                            "      <th>Second</th>\n",
                            "      <th>Third</th>\n",
                            "    </tr>\n",
                            "    <tr>\n",
                            "      <th>Survived</th>\n",
                            "      <th></th>\n",
                            "      <th></th>\n",
                            "      <th></th>\n",
                            "      <th></th>\n",
                            "    </tr>\n",
                            "  </thead>\n",
                            "  <tbody>\n",
                            "    <tr>\n",
                            "      <td>Alive</td>\n",
                            "      <td>212</td>\n",
                            "      <td>202</td>\n",
                            "      <td>118</td>\n",
                            "      <td>178</td>\n",
                            "    </tr>\n",
                            "    <tr>\n",
                            "      <td>Dead</td>\n",
                            "      <td>673</td>\n",
                            "      <td>123</td>\n",
                            "      <td>167</td>\n",
                            "      <td>528</td>\n",
                            "    </tr>\n",
                            "  </tbody>\n",
                            "</table>\n",
                            "</div>"
                        ]
                    },
                    "metadata": {},
                    "execution_count": 14
                }
            ],
            "metadata": {}
        },
        {
            "cell_type": "code",
            "execution_count": 18,
            "source": [
                "import matplotlib.pyplot as plt\r\n",
                "Class_tbl = ti_data.Class.value_counts()\r\n",
                "Class_tbl.plot(kind='bar')\r\n",
                "plt.title('Number of passengers')"
            ],
            "outputs": [
                {
                    "output_type": "execute_result",
                    "data": {
                        "text/plain": [
                            "Text(0.5, 1.0, 'Number of passengers')"
                        ]
                    },
                    "metadata": {},
                    "execution_count": 18
                },
                {
                    "output_type": "display_data",
                    "data": {
                        "text/plain": [
                            "<Figure size 432x288 with 1 Axes>"
                        ],
                        "image/png": "[encoded data removed]"
                    },
                    "metadata": {
                        "needs_background": "light"
                    }
                }
            ],
            "metadata": {}
        }
    ],
    "metadata": {
        "orig_nbformat": 4,
        "language_info": {
            "name": "python",
            "version": "3.7.4",
            "mimetype": "text/x-python",
            "codemirror_mode": {
                "name": "ipython",
                "version": 3
            },
            "pygments_lexer": "ipython3",
            "nbconvert_exporter": "python",
            "file_extension": ".py"
        },
        "kernelspec": {
            "name": "python3",
            "display_name": "Python 3.7.4 64-bit ('base': conda)"
        },
        "interpreter": {
            "hash": "3d7ae81bd4269cea30be3a7bd3718820557958b837614ab9e83a174814ebfe15"
        }
    },
    "nbformat": 4,
    "nbformat_minor": 2
}